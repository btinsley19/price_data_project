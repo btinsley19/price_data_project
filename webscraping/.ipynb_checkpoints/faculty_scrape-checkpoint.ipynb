{
 "cells": [
  {
   "cell_type": "code",
   "execution_count": 10,
   "id": "b7b0cbed",
   "metadata": {},
   "outputs": [],
   "source": [
    "import pandas as pd\n",
    "from urllib.request import Request, urlopen\n",
    "from bs4 import BeautifulSoup as soup\n",
    "import csv"
   ]
  },
  {
   "cell_type": "code",
   "execution_count": null,
   "id": "5ea8ecb2",
   "metadata": {},
   "outputs": [],
   "source": [
    "# starting with getting faculty data from price website\n",
    "# it seems they have changed the structure since last scrape\n",
    "# keep this in mind going forward..."
   ]
  },
  {
   "cell_type": "code",
   "execution_count": 14,
   "id": "13a97900",
   "metadata": {},
   "outputs": [],
   "source": [
    "url = \"https://priceschool.usc.edu/faculty/\"\n",
    "req = Request(url , headers={'User-Agent': 'Mozilla/5.0'})\n",
    "response = urlopen(req)\n",
    "# print(response.getcode())\n",
    "webpage = urlopen(req).read()\n",
    "page_soup = soup(webpage, \"html.parser\")"
   ]
  },
  {
   "cell_type": "code",
   "execution_count": 17,
   "id": "ab330b8c",
   "metadata": {},
   "outputs": [],
   "source": [
    "# now find the table\n",
    "table = page_soup.find(\"table\")\n",
    "# print(table)\n",
    "items = table.find_all(\"tr\", class_=\"item clickable\")"
   ]
  },
  {
   "cell_type": "code",
   "execution_count": 29,
   "id": "1e0a6b26",
   "metadata": {},
   "outputs": [],
   "source": [
    "names = []\n",
    "links = []\n",
    "positions = []\n",
    "expertises = []\n",
    "\n",
    "for i in items:\n",
    "    name = i.find(\"td\", class_=\"name\").text.strip()\n",
    "    link = i.get('data-url')\n",
    "    position = i.find(\"td\", class_=\"position\").text.strip()\n",
    "    expertise = i.find(\"td\", class_=\"expertise\").text.strip()\n",
    "    names.append(name)\n",
    "    links.append(link)\n",
    "    positions.append(position)\n",
    "    expertises.append(expertise)"
   ]
  },
  {
   "cell_type": "code",
   "execution_count": 30,
   "id": "5b16f6bc",
   "metadata": {},
   "outputs": [],
   "source": [
    "data = {\n",
    "    \"Name\": names,\n",
    "    \"Link\": links,\n",
    "    \"Position\": positions,\n",
    "    \"Expertise\": expertises\n",
    "}\n",
    "df = pd.DataFrame(data)"
   ]
  },
  {
   "cell_type": "code",
   "execution_count": 33,
   "id": "b06e9226",
   "metadata": {},
   "outputs": [],
   "source": [
    "# df"
   ]
  },
  {
   "cell_type": "code",
   "execution_count": null,
   "id": "1ed7fa16",
   "metadata": {},
   "outputs": [],
   "source": [
    "# now loop through each link and grab email, degree, degree institution, scholar link, and scholar_on_webpage"
   ]
  }
 ],
 "metadata": {
  "kernelspec": {
   "display_name": "Python 3 (ipykernel)",
   "language": "python",
   "name": "python3"
  },
  "language_info": {
   "codemirror_mode": {
    "name": "ipython",
    "version": 3
   },
   "file_extension": ".py",
   "mimetype": "text/x-python",
   "name": "python",
   "nbconvert_exporter": "python",
   "pygments_lexer": "ipython3",
   "version": "3.11.5"
  }
 },
 "nbformat": 4,
 "nbformat_minor": 5
}
